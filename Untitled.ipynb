{
 "cells": [
  {
   "cell_type": "code",
   "execution_count": 1,
   "id": "sunset-program",
   "metadata": {},
   "outputs": [],
   "source": [
    "db_host = \"ec2-34-225-103-117.compute-1.amazonaws.com\"\n",
    "db_name = \"d1ati88i3hiodn\"\n",
    "db_user = \"vputlrxzjcwffs\"\n",
    "db_pass = \"ebc3f1ac8d6de628c643fe9440f03ffe691918d34784868f807d31cf1da09efd\""
   ]
  },
  {
   "cell_type": "code",
   "execution_count": 2,
   "id": "numeric-quarter",
   "metadata": {},
   "outputs": [],
   "source": [
    "import psycopg2\n",
    "from psycopg2 import Error"
   ]
  },
  {
   "cell_type": "code",
   "execution_count": 3,
   "id": "optimum-bachelor",
   "metadata": {},
   "outputs": [],
   "source": [
    "conn = psycopg2.connect(dbname=db_name, user=db_user, password=db_pass, host=db_host)"
   ]
  },
  {
   "cell_type": "code",
   "execution_count": 4,
   "id": "aggregate-internet",
   "metadata": {},
   "outputs": [],
   "source": [
    "cur = conn.cursor()"
   ]
  },
  {
   "cell_type": "code",
   "execution_count": 5,
   "id": "detailed-beaver",
   "metadata": {},
   "outputs": [
    {
     "name": "stdout",
     "output_type": "stream",
     "text": [
      "Table created successfully\n"
     ]
    }
   ],
   "source": [
    "cur.execute('''CREATE TABLE LOGIN\n",
    "      (ADMISSION INT PRIMARY KEY     NOT NULL,\n",
    "      USERNAME           TEXT    NOT NULL,\n",
    "      PASSWORD           TEXT     NOT NULL);''')\n",
    "print(\"Table created successfully\")"
   ]
  },
  {
   "cell_type": "code",
   "execution_count": 7,
   "id": "anonymous-income",
   "metadata": {},
   "outputs": [],
   "source": [
    "conn.commit()"
   ]
  },
  {
   "cell_type": "code",
   "execution_count": null,
   "id": "boolean-suite",
   "metadata": {},
   "outputs": [],
   "source": []
  }
 ],
 "metadata": {
  "kernelspec": {
   "display_name": "Python 3",
   "language": "python",
   "name": "python3"
  },
  "language_info": {
   "codemirror_mode": {
    "name": "ipython",
    "version": 3
   },
   "file_extension": ".py",
   "mimetype": "text/x-python",
   "name": "python",
   "nbconvert_exporter": "python",
   "pygments_lexer": "ipython3",
   "version": "3.8.2"
  }
 },
 "nbformat": 4,
 "nbformat_minor": 5
}
